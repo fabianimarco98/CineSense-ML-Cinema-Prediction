{
  "cells": [
    {
      "cell_type": "code",
      "execution_count": 2,
      "metadata": {
        "colab": {
          "base_uri": "https://localhost:8080/"
        },
        "id": "i-zwGflnoh5w",
        "outputId": "27030df2-960f-4350-d23e-c24e9bc86bef"
      },
      "outputs": [
        {
          "name": "stdout",
          "output_type": "stream",
          "text": [
            "Mounted at /content/drive\n"
          ]
        }
      ],
      "source": [
        "# @title\n",
        "import pandas as pd\n",
        "import numpy as np\n",
        "import statistics  as stat\n",
        "import matplotlib.pyplot as plt\n",
        "from collections import Counter\n",
        "import requests\n",
        "import seaborn as sns\n",
        "from sklearn.model_selection import train_test_split\n",
        "from sklearn.ensemble import RandomForestRegressor\n",
        "from sklearn.metrics import mean_squared_error\n",
        "from sklearn.preprocessing import MultiLabelBinarizer\n",
        "from google.colab import drive\n",
        "import tensorflow as tf\n",
        "from datetime import datetime\n",
        "from tensorflow.keras import layers\n",
        "from tensorflow.keras.callbacks import EarlyStopping\n",
        "from sklearn.preprocessing import StandardScaler, MinMaxScaler\n",
        "import pickle\n",
        "from sklearn.preprocessing import LabelEncoder\n",
        "from sklearn.linear_model import LogisticRegression, SGDClassifier, RidgeClassifier\n",
        "from sklearn.metrics import accuracy_score, confusion_matrix, classification_report, roc_auc_score, roc_curve, auc\n",
        "import itertools\n",
        "import ast\n",
        "from sklearn.preprocessing import PowerTransformer\n",
        "from sklearn.preprocessing import LabelEncoder\n",
        "from tensorflow.keras.callbacks import ReduceLROnPlateau\n",
        "#from scikeras.wrappers import KerasRegressor\n",
        "from sklearn.model_selection import GridSearchCV\n",
        "from tqdm import tqdm\n",
        "drive.mount('/content/drive')"
      ]
    },
    {
      "cell_type": "code",
      "execution_count": null,
      "metadata": {
        "cellView": "form",
        "colab": {
          "base_uri": "https://localhost:8080/",
          "height": 206
        },
        "id": "7uQhIcFgNEcd",
        "outputId": "3fe12bd4-9f56-47cd-f9db-64698e570326"
      },
      "outputs": [],
      "source": [
        "# @title\n",
        "path=\"\"\n",
        "df = pd.read_csv(path,sep=\";\",encoding='unicode_escape')\n",
        "df['date'] = pd.to_datetime(df['date'], format='%d/%m/%Y', errors='coerce')  # convert date\n",
        "df['weekday'] = df['date'].dt.weekday + 1  # 1=Monday, 7=Sunday\n",
        "df['month'] = df['date'].dt.month  # extract month\n",
        "df = df.dropna(subset=['time'])  # drop rows with missing time\n",
        "df['hour'] = pd.to_datetime(df['time'], format='%H:%M', errors='coerce')  # convert time\n",
        "df['time_slot'] = df['hour'].dt.hour.apply(lambda h: '8' if 6 <= h < 12 else '17' if 12 <= h < 18 else '20')  # assign slot\n",
        "df = df[~df.isin(['-']).any(axis=1)]  # remove rows with \"-\"\n",
        "df['full_price'] = pd.to_numeric(df['full_price'], errors='coerce')  # convert to numeric\n",
        "df['reduced'] = pd.to_numeric(df['reduced'], errors='coerce')\n",
        "df['free'] = pd.to_numeric(df['free'], errors='coerce')\n",
        "df['total'] = df['full_price'] + df['reduced'] + df['free']  # recompute total\n",
        "df['date'] = df['date'].dt.strftime('%Y-%m-%d')  # format date as string\n",
        "df=df.drop([\"hour\"],axis=1)\n",
        "df = df.sort_values(by=\"date\")  # sort chronologically\n",
        "df.head()"
      ]
    },
    {
      "cell_type": "markdown",
      "metadata": {
        "id": "bWRinq8fhF47"
      },
      "source": [
        "#API CALL"
      ]
    },
    {
      "cell_type": "code",
      "execution_count": null,
      "metadata": {
        "id": "DadbO4w7f_WC"
      },
      "outputs": [],
      "source": [
        "# @title\n",
        "# --- TMDb Data Enrichment: genres + metadata ---\n",
        "import requests, pandas as pd\n",
        "from tqdm import tqdm\n",
        "\n",
        "def get_genre_ids(df):\n",
        "    api_key = #key\n",
        "    genres, languages, popularity, rating, ids = [], [], [], [], []\n",
        "    for _, row in tqdm(df.iterrows(), total=len(df)):\n",
        "        title = row[\"title\"]\n",
        "        if title.endswith(\" - Piacere del Cinema\"): title = title[:-21]\n",
        "        url = \"https://api.themoviedb.org/3/search/movie\"\n",
        "        params = {\"api_key\": api_key, \"query\": title, \"language\": \"it-IT\"}\n",
        "        r = requests.get(url, params=params)\n",
        "        if r.status_code == 200 and r.json()[\"results\"]:\n",
        "            m = r.json()[\"results\"][0]\n",
        "            genres.append(m.get(\"genre_ids\", []))\n",
        "            languages.append(m.get(\"original_language\", \"\"))\n",
        "            popularity.append(m.get(\"popularity\", 0.0))\n",
        "            rating.append(m.get(\"vote_average\", 0.0))\n",
        "            ids.append(m.get(\"id\", None))\n",
        "        else:\n",
        "            genres.append([]); languages.append([]); popularity.append([]); rating.append([]); ids.append([])\n",
        "    df[\"genre_ids\"] = genres\n",
        "    df[\"original_language\"] = languages\n",
        "    df[\"popularity\"] = popularity\n",
        "    df[\"rating\"] = rating\n",
        "    df[\"id\"] = ids\n",
        "    df = df[df[\"genre_ids\"].apply(lambda x: len(x) > 0)]\n",
        "    df = df[df[\"original_language\"].apply(lambda x: len(x) > 0)]\n",
        "    return df\n",
        "\n",
        "def get_movie_details(df):\n",
        "    api_key = #key\n",
        "    cast_list, director_list, budget_list, production_list, keyword_list, collection_list = [], [], [], [], [], []\n",
        "    for _, row in tqdm(df.iterrows(), total=len(df)):\n",
        "        tmdb_id = row[\"id\"]\n",
        "        # --- Credits: top-3 cast + director ---\n",
        "        r_credits = requests.get(\n",
        "            f\"https://api.themoviedb.org/3/movie/{tmdb_id}/credits\",\n",
        "            params={\"api_key\": api_key, \"language\": \"it-IT\"}\n",
        "        )\n",
        "        if r_credits.status_code == 200:\n",
        "            d = r_credits.json()\n",
        "            top3 = [a[\"name\"] for a in d.get(\"cast\", [])[:3]]\n",
        "            top3 += [None] * (3 - len(top3))          # pad to 3\n",
        "            cast_list.append(top3)\n",
        "            directors = [m[\"name\"] for m in d.get(\"crew\", []) if m[\"job\"] == \"Director\"]\n",
        "            director_list.append(directors[0] if directors else None)\n",
        "        else:\n",
        "            cast_list.append([None, None, None])\n",
        "            director_list.append(None)\n",
        "\n",
        "        # --- Movie details: budget, production, collection ---\n",
        "        r_details = requests.get(\n",
        "            f\"https://api.themoviedb.org/3/movie/{tmdb_id}\",\n",
        "            params={\"api_key\": api_key, \"language\": \"it-IT\"}\n",
        "        )\n",
        "        if r_details.status_code == 200:\n",
        "            d = r_details.json()\n",
        "            budget_list.append(d.get(\"budget\"))\n",
        "            prod = d.get(\"production_companies\", [])\n",
        "            production_list.append(prod[0][\"name\"] if prod else None)\n",
        "            collection_list.append(d.get(\"belongs_to_collection\"))\n",
        "        else:\n",
        "            budget_list.append(None)\n",
        "            production_list.append(None)\n",
        "            collection_list.append(None)\n",
        "\n",
        "        # --- Keywords ---\n",
        "        r_keywords = requests.get(\n",
        "            f\"https://api.themoviedb.org/3/movie/{tmdb_id}/keywords\",\n",
        "            params={\"api_key\": api_key}\n",
        "        )\n",
        "        if r_keywords.status_code == 200:\n",
        "            k = r_keywords.json()\n",
        "            keyword_list.append([kw[\"name\"] for kw in k.get(\"keywords\", [])])\n",
        "        else:\n",
        "            keyword_list.append([])\n",
        "\n",
        "    # Aggiungo le colonne al DataFrame\n",
        "    df[\"cast\"] = cast_list\n",
        "    df[\"director\"] = director_list\n",
        "    df[\"budget\"] = budget_list\n",
        "    df[\"production_company\"] = production_list\n",
        "    df[\"keywords\"] = keyword_list\n",
        "    df[\"belongs_to_collection\"] = collection_list\n",
        "    return df\n",
        "\n",
        "def extract_collection_name(row): return \"No Collection\" if pd.isna(row) else row.get(\"name\", \"Unknown\")\n",
        "def belongs_to_collection_binary(row): return not pd.isna(row)\n",
        "\n",
        "# USAGE\n",
        "selected_cols = [\"title\", \"month\", \"total\", \"weekday\", \"time_slot\"]\n",
        "df_titles = df[selected_cols].copy()\n",
        "df_tmdb = get_genre_ids(df_titles)\n",
        "df_tmdb = get_movie_details(df_tmdb)\n",
        "df_tmdb[\"collection_name\"] = df_tmdb[\"belongs_to_collection\"].apply(extract_collection_name)\n",
        "df_tmdb[\"in_collection\"] = df_tmdb[\"belongs_to_collection\"].apply(belongs_to_collection_binary)\n",
        "df_tmdb.to_csv(path, index=False)\n",
        "df_tmdb.head()"
      ]
    },
    {
      "cell_type": "markdown",
      "metadata": {
        "id": "2ruVlx5WhJO1"
      },
      "source": [
        "#FEATURE ENGINEERING"
      ]
    },
    {
      "cell_type": "code",
      "execution_count": null,
      "metadata": {
        "id": "I9-YQQXTpocQ"
      },
      "outputs": [],
      "source": [
        "# feature engineering\n",
        "df=pd.read_csv(path, sep=\",\")\n",
        "\n",
        "# cyclic encoding per month e weekday\n",
        "df['month_sin']   = np.sin(2*np.pi * (df['month']-1) / 12)\n",
        "df['month_cos']   = np.cos(2*np.pi * (df['month']-1) / 12)\n",
        "df['wd_sin']      = np.sin(2*np.pi * (df['weekday']-1) / 7)\n",
        "df['wd_cos']      = np.cos(2*np.pi * (df['weekday']-1) / 7)\n",
        "\n",
        "# one-hot per time_slot (se hai solo 3 slot: '8','17','20')\n",
        "df = pd.get_dummies(df, columns=['time_slot'], prefix='ts')\n",
        "\n",
        "#numerical features\n",
        "num_cols = ['popularity','rating','budget']\n",
        "scaler = StandardScaler()\n",
        "df[num_cols] = scaler.fit_transform(df[num_cols])"
      ]
    },
    {
      "cell_type": "code",
      "execution_count": 32,
      "metadata": {
        "id": "R38ua6zT457S"
      },
      "outputs": [],
      "source": [
        "#keep the most frequent\n",
        "for col in ['director','production_company']: #original_language\n",
        "    top = df[col].value_counts().nlargest(10).index\n",
        "    df[col] = df[col].where(df[col].isin(top), other='Other')\n",
        "df = pd.get_dummies(df, columns=['original_language','director','production_company'], prefix=['lang','dir','prod'])"
      ]
    },
    {
      "cell_type": "code",
      "execution_count": null,
      "metadata": {
        "colab": {
          "base_uri": "https://localhost:8080/",
          "height": 265
        },
        "id": "d4R76Wtk5J6F",
        "outputId": "42aa4c2c-1bd3-403a-9640-1b5ee8075bf0"
      },
      "outputs": [],
      "source": [
        "from collections import Counter\n",
        "import pandas as pd\n",
        "from sklearn.preprocessing import MultiLabelBinarizer\n",
        "\n",
        "# 1) Determine top labels\n",
        "all_genres = [g for lst in df['genre_ids'] for g in lst]\n",
        "top_genres = [g for g,_ in Counter(all_genres).most_common(15)]\n",
        "all_cast = [c for lst in df['cast'] for c in lst]\n",
        "top_cast = [c for c,_ in Counter(all_cast).most_common(40)]\n",
        "#all_kw = [k for lst in df['keywords'] for k in lst]\n",
        "#top_kw = [k for k,_ in Counter(all_kw).most_common(50)]\n",
        "\n",
        "# 2) Filter lists, add 'Other' for any out-of-top labels\n",
        "def filter_top(lst, top_list):\n",
        "    filtered = [x for x in lst if x in top_list]\n",
        "    if any(x not in top_list for x in lst):\n",
        "        filtered.append('Other')\n",
        "    return filtered\n",
        "\n",
        "df['genre_ids'] = df['genre_ids'].apply(lambda lst: filter_top(lst, top_genres))\n",
        "df['cast']      = df['cast'].apply(lambda lst: filter_top(lst, top_cast))\n",
        "#df['keywords']  = df['keywords'].apply(lambda lst: filter_top(lst, top_kw))\n",
        "\n",
        "# 3) Multi-hot encode filtered lists\n",
        "mlb_genre = MultiLabelBinarizer()\n",
        "mlb_cast  = MultiLabelBinarizer()\n",
        "#mlb_kw    = MultiLabelBinarizer()\n",
        "\n",
        "genre_df = pd.DataFrame(\n",
        "    mlb_genre.fit_transform(df['genre_ids']),\n",
        "    columns=[f\"genre_{g}\" for g in mlb_genre.classes_],\n",
        "    index=df.index\n",
        ")\n",
        "cast_df = pd.DataFrame(\n",
        "    mlb_cast.fit_transform(df['cast']),\n",
        "    columns=[f\"cast_{c}\" for c in mlb_cast.classes_],\n",
        "    index=df.index\n",
        ")\n",
        "'''\n",
        "kw_df = pd.DataFrame(\n",
        "    mlb_kw.fit_transform(df['keywords']),\n",
        "    columns=[f\"kw_{k}\" for k in mlb_kw.classes_],\n",
        "    index=df.index\n",
        ")\n",
        "'''\n",
        "\n",
        "# 4) Concatenate and drop originals\n",
        "df = pd.concat([df, genre_df, cast_df], axis=1)\n",
        "df = df.drop(columns=['genre_ids','cast'])\n",
        "\n",
        "df.head(2)"
      ]
    },
    {
      "cell_type": "code",
      "execution_count": null,
      "metadata": {
        "colab": {
          "base_uri": "https://localhost:8080/"
        },
        "id": "prjVJ9VnjJqq",
        "outputId": "4a52559a-ae1a-4d7a-c42d-4df5a754af84"
      },
      "outputs": [],
      "source": [
        "print(df.dtypes.value_counts())\n",
        "prefixes = ['genre_','cast_','ts_','lang_','dir_','prod_','coll_']\n",
        "for p in prefixes:\n",
        "    n = sum(1 for c in df.columns if c.startswith(p))\n",
        "    print(f\"{p:<8} → {n} columns\")\n",
        "print(f\"Total columns: {df.shape[1]}\")"
      ]
    },
    {
      "cell_type": "code",
      "execution_count": 36,
      "metadata": {
        "id": "CmgXd5Ha6Wc9"
      },
      "outputs": [],
      "source": [
        "df=df.to_csv(\"/content/drive/MyDrive/Colab Notebooks/csv/df_coded.csv\", index=False)"
      ]
    }
  ],
  "metadata": {
    "colab": {
      "collapsed_sections": [
        "bWRinq8fhF47"
      ],
      "provenance": []
    },
    "kernelspec": {
      "display_name": "Python 3",
      "name": "python3"
    },
    "language_info": {
      "name": "python"
    }
  },
  "nbformat": 4,
  "nbformat_minor": 0
}
