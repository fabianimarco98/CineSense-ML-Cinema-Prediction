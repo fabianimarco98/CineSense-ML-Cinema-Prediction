{
 "cells": [
  {
   "cell_type": "code",
   "execution_count": 55,
   "id": "336f8f92",
   "metadata": {},
   "outputs": [
    {
     "data": {
      "text/plain": [
       "Index(['date', 'time', 'title', 'full_price', 'reduced', 'free', 'total',\n",
       "       'datetime', 'giorno_settimana', 'mese', 'anno', 'ora', 'fascia_oraria',\n",
       "       'stagione', 'weekend', 'date_str', 'temp_max', 'temp_min', 'precip_mm',\n",
       "       'genres', 'keywords', 'cast', 'director', 'vote_average', 'popularity',\n",
       "       'festivita'],\n",
       "      dtype='object')"
      ]
     },
     "execution_count": 55,
     "metadata": {},
     "output_type": "execute_result"
    }
   ],
   "source": [
    "import pandas as pd\n",
    "\n",
    "df=pd.read_csv(r\"X:\\Projects\\slowcinema\\cine-sense\\16-06-2025_lavoro_di_luigiiii\\cinema-ml-project\\input\\dati_cinema_updated.csv\")\n",
    "df[\"festivita\"]=df[\"festività\"]\n",
    "df.drop(columns=[\"festività\"], inplace=True)\n",
    "df.sample(3)\n",
    "df.columns"
   ]
  },
  {
   "cell_type": "code",
   "execution_count": 57,
   "id": "d3ea92f4",
   "metadata": {},
   "outputs": [
    {
     "name": "stderr",
     "output_type": "stream",
     "text": [
      "c:\\Users\\mfab9\\.conda\\envs\\cinema-env\\lib\\site-packages\\ludwig\\trainers\\trainer.py:1273: UserWarning: Converting a tensor with requires_grad=True to a scalar may lead to unexpected behavior.\n",
      "Consider using tensor.detach() first. (Triggered internally at C:\\actions-runner\\_work\\pytorch\\pytorch\\pytorch\\torch\\csrc\\autograd\\generated\\python_variable_methods.cpp:836.)\n",
      "  progress_bar.set_postfix({\"loss\": float(loss)})\n"
     ]
    }
   ],
   "source": [
    "from ludwig.api import LudwigModel\n",
    "\n",
    "model = LudwigModel(config=r\"X:\\Projects\\slowcinema\\cine-sense\\16-06-2025_lavoro_di_luigiiii\\cinema-ml-project\\input\\movies.yaml\")\n",
    "results = model.train(dataset=df)"
   ]
  },
  {
   "cell_type": "code",
   "execution_count": 66,
   "id": "b6dc9b74",
   "metadata": {},
   "outputs": [
    {
     "data": {
      "text/html": [
       "<div>\n",
       "<style scoped>\n",
       "    .dataframe tbody tr th:only-of-type {\n",
       "        vertical-align: middle;\n",
       "    }\n",
       "\n",
       "    .dataframe tbody tr th {\n",
       "        vertical-align: top;\n",
       "    }\n",
       "\n",
       "    .dataframe thead th {\n",
       "        text-align: right;\n",
       "    }\n",
       "</style>\n",
       "<table border=\"1\" class=\"dataframe\">\n",
       "  <thead>\n",
       "    <tr style=\"text-align: right;\">\n",
       "      <th></th>\n",
       "      <th>date</th>\n",
       "      <th>time</th>\n",
       "      <th>title</th>\n",
       "      <th>full_price</th>\n",
       "      <th>reduced</th>\n",
       "      <th>free</th>\n",
       "      <th>total</th>\n",
       "      <th>datetime</th>\n",
       "      <th>giorno_settimana</th>\n",
       "      <th>mese</th>\n",
       "      <th>...</th>\n",
       "      <th>date_str</th>\n",
       "      <th>temp_max</th>\n",
       "      <th>temp_min</th>\n",
       "      <th>precip_mm</th>\n",
       "      <th>genres</th>\n",
       "      <th>keywords</th>\n",
       "      <th>cast</th>\n",
       "      <th>director</th>\n",
       "      <th>vote_average</th>\n",
       "      <th>popularity</th>\n",
       "    </tr>\n",
       "  </thead>\n",
       "  <tbody>\n",
       "    <tr>\n",
       "      <th>0</th>\n",
       "      <td>20/08/2025</td>\n",
       "      <td>20:30</td>\n",
       "      <td>Io Sono Nessuno 2</td>\n",
       "      <td>45</td>\n",
       "      <td>103</td>\n",
       "      <td>7</td>\n",
       "      <td>155</td>\n",
       "      <td>20/08/2025 20:30</td>\n",
       "      <td>sabato</td>\n",
       "      <td>8</td>\n",
       "      <td>...</td>\n",
       "      <td>20/08/2025</td>\n",
       "      <td>31.1</td>\n",
       "      <td>16.9</td>\n",
       "      <td>0</td>\n",
       "      <td>['Action', 'Crime','Comedy']</td>\n",
       "      <td>['assassin', 'sequel', 'revenge', 'dark comedy...</td>\n",
       "      <td>['Bob Odenkirk', 'Connie Nielsen']</td>\n",
       "      <td>Timo Tjahjanto</td>\n",
       "      <td>7.15</td>\n",
       "      <td>14.5201</td>\n",
       "    </tr>\n",
       "  </tbody>\n",
       "</table>\n",
       "<p>1 rows × 26 columns</p>\n",
       "</div>"
      ],
      "text/plain": [
       "         date   time              title  full_price  reduced  free  total  \\\n",
       "0  20/08/2025  20:30  Io Sono Nessuno 2          45      103     7    155   \n",
       "\n",
       "           datetime giorno_settimana  mese  ...    date_str  temp_max  \\\n",
       "0  20/08/2025 20:30           sabato     8  ...  20/08/2025      31.1   \n",
       "\n",
       "  temp_min precip_mm                        genres  \\\n",
       "0     16.9         0  ['Action', 'Crime','Comedy']   \n",
       "\n",
       "                                            keywords  \\\n",
       "0  ['assassin', 'sequel', 'revenge', 'dark comedy...   \n",
       "\n",
       "                                 cast        director  vote_average  \\\n",
       "0  ['Bob Odenkirk', 'Connie Nielsen']  Timo Tjahjanto          7.15   \n",
       "\n",
       "   popularity  \n",
       "0     14.5201  \n",
       "\n",
       "[1 rows x 26 columns]"
      ]
     },
     "execution_count": 66,
     "metadata": {},
     "output_type": "execute_result"
    }
   ],
   "source": [
    "df_predictions=pd.read_csv(r\"X:\\Projects\\slowcinema\\cine-sense\\16-06-2025_lavoro_di_luigiiii\\cinema-ml-project\\input\\test_prediction.csv\",sep=\";\")\n",
    "df_predictions"
   ]
  },
  {
   "cell_type": "code",
   "execution_count": 67,
   "id": "cd438640",
   "metadata": {},
   "outputs": [
    {
     "data": {
      "text/html": [
       "<div>\n",
       "<style scoped>\n",
       "    .dataframe tbody tr th:only-of-type {\n",
       "        vertical-align: middle;\n",
       "    }\n",
       "\n",
       "    .dataframe tbody tr th {\n",
       "        vertical-align: top;\n",
       "    }\n",
       "\n",
       "    .dataframe thead th {\n",
       "        text-align: right;\n",
       "    }\n",
       "</style>\n",
       "<table border=\"1\" class=\"dataframe\">\n",
       "  <thead>\n",
       "    <tr style=\"text-align: right;\">\n",
       "      <th></th>\n",
       "      <th>total_predictions</th>\n",
       "    </tr>\n",
       "  </thead>\n",
       "  <tbody>\n",
       "    <tr>\n",
       "      <th>0</th>\n",
       "      <td>28.242287</td>\n",
       "    </tr>\n",
       "  </tbody>\n",
       "</table>\n",
       "</div>"
      ],
      "text/plain": [
       "   total_predictions\n",
       "0          28.242287"
      ]
     },
     "execution_count": 67,
     "metadata": {},
     "output_type": "execute_result"
    }
   ],
   "source": [
    "predictions, _ = model.predict(dataset=df_predictions)\n",
    "predictions.head()"
   ]
  },
  {
   "cell_type": "code",
   "execution_count": 70,
   "id": "6a7d08c3",
   "metadata": {},
   "outputs": [
    {
     "data": {
      "text/plain": [
       "{'total': {'loss': 2111.591064453125,\n",
       "  'root_mean_squared_error': 45.95205307006836,\n",
       "  'root_mean_squared_percentage_error': 2347.608154296875,\n",
       "  'r2': 0.36257368326187134,\n",
       "  'mean_absolute_error': 29.26207160949707,\n",
       "  'mean_squared_error': 2111.591064453125,\n",
       "  'mean_absolute_percentage_error': 26613.314453125},\n",
       " 'combined': {'loss': 2085.5556640625}}"
      ]
     },
     "execution_count": 70,
     "metadata": {},
     "output_type": "execute_result"
    }
   ],
   "source": [
    "eval_stats, _, _ = model.evaluate(dataset=df)\n",
    "eval_stats"
   ]
  },
  {
   "cell_type": "code",
   "execution_count": 71,
   "id": "de5c4920",
   "metadata": {},
   "outputs": [
    {
     "ename": "ModuleNotFoundError",
     "evalue": "No module named 'ptitprince'",
     "output_type": "error",
     "traceback": [
      "\u001b[1;31m---------------------------------------------------------------------------\u001b[0m",
      "\u001b[1;31mModuleNotFoundError\u001b[0m                       Traceback (most recent call last)",
      "Cell \u001b[1;32mIn[71], line 2\u001b[0m\n\u001b[0;32m      1\u001b[0m \u001b[38;5;28;01mimport\u001b[39;00m\u001b[38;5;250m \u001b[39m\u001b[38;5;21;01mos\u001b[39;00m\n\u001b[1;32m----> 2\u001b[0m \u001b[38;5;28;01mfrom\u001b[39;00m\u001b[38;5;250m \u001b[39m\u001b[38;5;21;01mludwig\u001b[39;00m\u001b[38;5;21;01m.\u001b[39;00m\u001b[38;5;21;01mvisualize\u001b[39;00m\u001b[38;5;250m \u001b[39m\u001b[38;5;28;01mimport\u001b[39;00m learning_curves\n\u001b[0;32m      4\u001b[0m \u001b[38;5;66;03m# Assumiamo che tu abbia già addestrato il modello e salvato le statistiche\u001b[39;00m\n\u001b[0;32m      5\u001b[0m \u001b[38;5;66;03m# training_stats, _, output_directory = model.train(dataset=df)\u001b[39;00m\n\u001b[0;32m      6\u001b[0m \n\u001b[0;32m      7\u001b[0m \u001b[38;5;66;03m# Definiamo dove salvare i grafici\u001b[39;00m\n\u001b[0;32m      8\u001b[0m viz_output_directory \u001b[38;5;241m=\u001b[39m os\u001b[38;5;241m.\u001b[39mpath\u001b[38;5;241m.\u001b[39mjoin(output_directory, \u001b[38;5;124m'\u001b[39m\u001b[38;5;124mvisualizations\u001b[39m\u001b[38;5;124m'\u001b[39m)\n",
      "File \u001b[1;32mc:\\Users\\mfab9\\.conda\\envs\\cinema-env\\lib\\site-packages\\ludwig\\visualize.py:38\u001b[0m\n\u001b[0;32m     36\u001b[0m \u001b[38;5;28;01mfrom\u001b[39;00m\u001b[38;5;250m \u001b[39m\u001b[38;5;21;01mludwig\u001b[39;00m\u001b[38;5;21;01m.\u001b[39;00m\u001b[38;5;21;01mconstants\u001b[39;00m\u001b[38;5;250m \u001b[39m\u001b[38;5;28;01mimport\u001b[39;00m ACCURACY, EDIT_DISTANCE, HITS_AT_K, LOSS, PREDICTIONS, SPACE, SPLIT\n\u001b[0;32m     37\u001b[0m \u001b[38;5;28;01mfrom\u001b[39;00m\u001b[38;5;250m \u001b[39m\u001b[38;5;21;01mludwig\u001b[39;00m\u001b[38;5;21;01m.\u001b[39;00m\u001b[38;5;21;01mcontrib\u001b[39;00m\u001b[38;5;250m \u001b[39m\u001b[38;5;28;01mimport\u001b[39;00m add_contrib_callback_args\n\u001b[1;32m---> 38\u001b[0m \u001b[38;5;28;01mfrom\u001b[39;00m\u001b[38;5;250m \u001b[39m\u001b[38;5;21;01mludwig\u001b[39;00m\u001b[38;5;21;01m.\u001b[39;00m\u001b[38;5;21;01mutils\u001b[39;00m\u001b[38;5;250m \u001b[39m\u001b[38;5;28;01mimport\u001b[39;00m visualization_utils\n\u001b[0;32m     39\u001b[0m \u001b[38;5;28;01mfrom\u001b[39;00m\u001b[38;5;250m \u001b[39m\u001b[38;5;21;01mludwig\u001b[39;00m\u001b[38;5;21;01m.\u001b[39;00m\u001b[38;5;21;01mutils\u001b[39;00m\u001b[38;5;21;01m.\u001b[39;00m\u001b[38;5;21;01mdata_utils\u001b[39;00m\u001b[38;5;250m \u001b[39m\u001b[38;5;28;01mimport\u001b[39;00m (\n\u001b[0;32m     40\u001b[0m     CACHEABLE_FORMATS,\n\u001b[0;32m     41\u001b[0m     data_reader_registry,\n\u001b[1;32m   (...)\u001b[0m\n\u001b[0;32m     46\u001b[0m     replace_file_extension,\n\u001b[0;32m     47\u001b[0m )\n\u001b[0;32m     48\u001b[0m \u001b[38;5;28;01mfrom\u001b[39;00m\u001b[38;5;250m \u001b[39m\u001b[38;5;21;01mludwig\u001b[39;00m\u001b[38;5;21;01m.\u001b[39;00m\u001b[38;5;21;01mutils\u001b[39;00m\u001b[38;5;21;01m.\u001b[39;00m\u001b[38;5;21;01mdataframe_utils\u001b[39;00m\u001b[38;5;250m \u001b[39m\u001b[38;5;28;01mimport\u001b[39;00m to_numpy_dataset, unflatten_df\n",
      "File \u001b[1;32mc:\\Users\\mfab9\\.conda\\envs\\cinema-env\\lib\\site-packages\\ludwig\\utils\\visualization_utils.py:24\u001b[0m\n\u001b[0;32m     22\u001b[0m \u001b[38;5;28;01mimport\u001b[39;00m\u001b[38;5;250m \u001b[39m\u001b[38;5;21;01mnumpy\u001b[39;00m\u001b[38;5;250m \u001b[39m\u001b[38;5;28;01mas\u001b[39;00m\u001b[38;5;250m \u001b[39m\u001b[38;5;21;01mnp\u001b[39;00m\n\u001b[0;32m     23\u001b[0m \u001b[38;5;28;01mimport\u001b[39;00m\u001b[38;5;250m \u001b[39m\u001b[38;5;21;01mpandas\u001b[39;00m\u001b[38;5;250m \u001b[39m\u001b[38;5;28;01mas\u001b[39;00m\u001b[38;5;250m \u001b[39m\u001b[38;5;21;01mpd\u001b[39;00m\n\u001b[1;32m---> 24\u001b[0m \u001b[38;5;28;01mimport\u001b[39;00m\u001b[38;5;250m \u001b[39m\u001b[38;5;21;01mptitprince\u001b[39;00m\u001b[38;5;250m \u001b[39m\u001b[38;5;28;01mas\u001b[39;00m\u001b[38;5;250m \u001b[39m\u001b[38;5;21;01mpt\u001b[39;00m\n\u001b[0;32m     25\u001b[0m \u001b[38;5;28;01mfrom\u001b[39;00m\u001b[38;5;250m \u001b[39m\u001b[38;5;21;01mpackaging\u001b[39;00m\u001b[38;5;250m \u001b[39m\u001b[38;5;28;01mimport\u001b[39;00m version\n\u001b[0;32m     27\u001b[0m \u001b[38;5;28;01mfrom\u001b[39;00m\u001b[38;5;250m \u001b[39m\u001b[38;5;21;01mludwig\u001b[39;00m\u001b[38;5;21;01m.\u001b[39;00m\u001b[38;5;21;01mconstants\u001b[39;00m\u001b[38;5;250m \u001b[39m\u001b[38;5;28;01mimport\u001b[39;00m SPACE, TRAINING, VALIDATION\n",
      "\u001b[1;31mModuleNotFoundError\u001b[0m: No module named 'ptitprince'"
     ]
    }
   ],
   "source": [
    "import os\n",
    "from ludwig.visualize import learning_curves\n",
    "\n",
    "# Assumiamo che tu abbia già addestrato il modello e salvato le statistiche\n",
    "# training_stats, _, output_directory = model.train(dataset=df)\n",
    "\n",
    "# Definiamo dove salvare i grafici\n",
    "viz_output_directory = os.path.join(output_directory, 'visualizations')\n",
    "\n",
    "# Generiamo i grafici delle curve di apprendimento\n",
    "# Passiamo le statistiche dentro una lista [training_stats]\n",
    "# e specifichiamo il nome della nostra feature di output ('total')\n",
    "learning_curves(\n",
    "    [training_stats],\n",
    "    output_feature_name='total',\n",
    "    output_directory=viz_output_directory,\n",
    "    file_format='png'\n",
    ")\n",
    "\n",
    "print(f\"Grafici di visualizzazione salvati in: {viz_output_directory}\")"
   ]
  }
 ],
 "metadata": {
  "kernelspec": {
   "display_name": "cinema-env",
   "language": "python",
   "name": "python3"
  },
  "language_info": {
   "codemirror_mode": {
    "name": "ipython",
    "version": 3
   },
   "file_extension": ".py",
   "mimetype": "text/x-python",
   "name": "python",
   "nbconvert_exporter": "python",
   "pygments_lexer": "ipython3",
   "version": "3.10.18"
  }
 },
 "nbformat": 4,
 "nbformat_minor": 5
}
