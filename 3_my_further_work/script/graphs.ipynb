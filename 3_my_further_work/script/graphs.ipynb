{
 "cells": [
  {
   "cell_type": "code",
   "execution_count": 2,
   "id": "36b2678b",
   "metadata": {},
   "outputs": [],
   "source": [
    "import matplotlib.pyplot as plt\n",
    "import seaborn as sns\n",
    "import pandas as pd\n",
    "from scipy.stats import f_oneway\n",
    "from scipy.stats import ttest_ind\n",
    "from statsmodels.stats.multicomp import pairwise_tukeyhsd\n",
    "import numpy as np\n",
    "import scipy.stats as stats\n",
    "from scipy.stats import pearsonr\n",
    "import os"
   ]
  },
  {
   "cell_type": "code",
   "execution_count": 12,
   "id": "9ad1b191",
   "metadata": {},
   "outputs": [
    {
     "data": {
      "text/html": [
       "<div>\n",
       "<style scoped>\n",
       "    .dataframe tbody tr th:only-of-type {\n",
       "        vertical-align: middle;\n",
       "    }\n",
       "\n",
       "    .dataframe tbody tr th {\n",
       "        vertical-align: top;\n",
       "    }\n",
       "\n",
       "    .dataframe thead th {\n",
       "        text-align: right;\n",
       "    }\n",
       "</style>\n",
       "<table border=\"1\" class=\"dataframe\">\n",
       "  <thead>\n",
       "    <tr style=\"text-align: right;\">\n",
       "      <th></th>\n",
       "      <th>date</th>\n",
       "      <th>time</th>\n",
       "      <th>title</th>\n",
       "      <th>full_price</th>\n",
       "      <th>reduced</th>\n",
       "      <th>free</th>\n",
       "      <th>total</th>\n",
       "      <th>datetime</th>\n",
       "      <th>giorno_settimana</th>\n",
       "      <th>mese</th>\n",
       "      <th>...</th>\n",
       "      <th>date_str</th>\n",
       "      <th>temp_max</th>\n",
       "      <th>temp_min</th>\n",
       "      <th>precip_mm</th>\n",
       "      <th>genres</th>\n",
       "      <th>keywords</th>\n",
       "      <th>cast</th>\n",
       "      <th>director</th>\n",
       "      <th>vote_average</th>\n",
       "      <th>popularity</th>\n",
       "    </tr>\n",
       "  </thead>\n",
       "  <tbody>\n",
       "    <tr>\n",
       "      <th>481</th>\n",
       "      <td>2024-09-22</td>\n",
       "      <td>20:30</td>\n",
       "      <td>CATTIVISSIMO ME 4</td>\n",
       "      <td>9.0</td>\n",
       "      <td>4.0</td>\n",
       "      <td>0.0</td>\n",
       "      <td>13.0</td>\n",
       "      <td>2024-09-22 20:30:00</td>\n",
       "      <td>domenica</td>\n",
       "      <td>9</td>\n",
       "      <td>...</td>\n",
       "      <td>2024-09-22</td>\n",
       "      <td>21.4</td>\n",
       "      <td>10.8</td>\n",
       "      <td>0.0</td>\n",
       "      <td>['Family', 'Comedy', 'Animation', 'Science Fic...</td>\n",
       "      <td>['superhero', 'villain', 'sequel', 'super vill...</td>\n",
       "      <td>['Steve Carell', 'Kristen Wiig', 'Will Ferrell']</td>\n",
       "      <td>Chris Renaud</td>\n",
       "      <td>7.00</td>\n",
       "      <td>38.1667</td>\n",
       "    </tr>\n",
       "    <tr>\n",
       "      <th>25</th>\n",
       "      <td>2019-11-02</td>\n",
       "      <td>20:30</td>\n",
       "      <td>La Famiglia Addams</td>\n",
       "      <td>60.0</td>\n",
       "      <td>82.0</td>\n",
       "      <td>0.0</td>\n",
       "      <td>142.0</td>\n",
       "      <td>2019-11-02 20:30:00</td>\n",
       "      <td>sabato</td>\n",
       "      <td>11</td>\n",
       "      <td>...</td>\n",
       "      <td>2019-11-02</td>\n",
       "      <td>13.4</td>\n",
       "      <td>10.2</td>\n",
       "      <td>1.8</td>\n",
       "      <td>['Family', 'Animation', 'Comedy', 'Fantasy']</td>\n",
       "      <td>['cartoon', 'black humor', 'family']</td>\n",
       "      <td>['Oscar Isaac', 'Charlize Theron', 'Chloë Grac...</td>\n",
       "      <td>Conrad Vernon</td>\n",
       "      <td>6.61</td>\n",
       "      <td>6.2833</td>\n",
       "    </tr>\n",
       "  </tbody>\n",
       "</table>\n",
       "<p>2 rows × 26 columns</p>\n",
       "</div>"
      ],
      "text/plain": [
       "           date   time               title  full_price  reduced  free  total  \\\n",
       "481  2024-09-22  20:30   CATTIVISSIMO ME 4         9.0      4.0   0.0   13.0   \n",
       "25   2019-11-02  20:30  La Famiglia Addams        60.0     82.0   0.0  142.0   \n",
       "\n",
       "               datetime giorno_settimana  mese  ...    date_str  temp_max  \\\n",
       "481 2024-09-22 20:30:00         domenica     9  ...  2024-09-22      21.4   \n",
       "25  2019-11-02 20:30:00           sabato    11  ...  2019-11-02      13.4   \n",
       "\n",
       "    temp_min precip_mm                                             genres  \\\n",
       "481     10.8       0.0  ['Family', 'Comedy', 'Animation', 'Science Fic...   \n",
       "25      10.2       1.8       ['Family', 'Animation', 'Comedy', 'Fantasy']   \n",
       "\n",
       "                                              keywords  \\\n",
       "481  ['superhero', 'villain', 'sequel', 'super vill...   \n",
       "25                ['cartoon', 'black humor', 'family']   \n",
       "\n",
       "                                                  cast       director  \\\n",
       "481   ['Steve Carell', 'Kristen Wiig', 'Will Ferrell']   Chris Renaud   \n",
       "25   ['Oscar Isaac', 'Charlize Theron', 'Chloë Grac...  Conrad Vernon   \n",
       "\n",
       "     vote_average  popularity  \n",
       "481          7.00     38.1667  \n",
       "25           6.61      6.2833  \n",
       "\n",
       "[2 rows x 26 columns]"
      ]
     },
     "execution_count": 12,
     "metadata": {},
     "output_type": "execute_result"
    }
   ],
   "source": [
    "# Directory del file corrente\n",
    "output_dir = \"grafici\"\n",
    "# directory making sure it exists\n",
    "os.makedirs(output_dir, exist_ok=True)\n",
    "\n",
    "file=r\"X:\\Projects\\slowcinema\\cine-sense\\16-06-2025_lavoro_di_luigiiii\\cinema-ml-project\\input\\dati_cinema_updated.csv\"\n",
    "df=pd.read_csv(file)\n",
    "# Assicurati che la colonna 'datetime' sia in formato datetime\n",
    "df[\"datetime\"] = pd.to_datetime(df[\"datetime\"])\n",
    "df.sample(2)"
   ]
  },
  {
   "cell_type": "code",
   "execution_count": 13,
   "id": "eafc5813",
   "metadata": {},
   "outputs": [],
   "source": [
    "# Raggruppo per mese e somma gli ingressi totali\n",
    "ingressi_mensili_totali = df.groupby(pd.Grouper(key=\"datetime\", freq=\"ME\"))[[\"total\"]].sum().reset_index()\n",
    "# Creo colonna con mese e anno in italiano (es. 'Mar 2023')\n",
    "ingressi_mensili_totali[\"mese_anno\"] = ingressi_mensili_totali[\"datetime\"].dt.strftime(\"%b %Y\")\n",
    "# Ordine cronologico corretto\n",
    "ingressi_mensili_totali[\"mese_anno\"] = pd.Categorical(ingressi_mensili_totali[\"mese_anno\"], categories=ingressi_mensili_totali[\"mese_anno\"], ordered=True)\n",
    "#print(ingressi_mensili_totali)"
   ]
  },
  {
   "cell_type": "code",
   "execution_count": 14,
   "id": "94a9fe43",
   "metadata": {},
   "outputs": [
    {
     "name": "stderr",
     "output_type": "stream",
     "text": [
      "C:\\Users\\mfab9\\AppData\\Local\\Temp\\ipykernel_17552\\2289184256.py:2: FutureWarning: 'Y' is deprecated and will be removed in a future version, please use 'YE' instead.\n",
      "  ingressi_annuali_totali = df.groupby(pd.Grouper(key=\"datetime\", freq=\"Y\"))[[\"total\"]].sum().reset_index()\n"
     ]
    }
   ],
   "source": [
    "# Raggruppo per anno e somma gli ingressi totali\n",
    "ingressi_annuali_totali = df.groupby(pd.Grouper(key=\"datetime\", freq=\"Y\"))[[\"total\"]].sum().reset_index()\n",
    "# Creo colonna con anno (es. '2023')\n",
    "ingressi_annuali_totali[\"anno\"] = ingressi_annuali_totali[\"datetime\"].dt.strftime(\"%Y\")\n",
    "# Ordine cronologico corretto\n",
    "ingressi_annuali_totali[\"anno\"] = pd.Categorical(ingressi_annuali_totali[\"anno\"],categories=ingressi_annuali_totali[\"anno\"],ordered=True)\n",
    "#print(ingressi_annuali_totali)"
   ]
  },
  {
   "cell_type": "code",
   "execution_count": null,
   "id": "f0304fca",
   "metadata": {},
   "outputs": [],
   "source": [
    "# Raggruppo per mese e somma gli ingressi full_price\n",
    "ingressi_mensili_full_price = df.groupby(pd.Grouper(key=\"datetime\", freq=\"ME\"))[[\"full_price\"]].sum().reset_index()\n",
    "# Creo colonna con mese e anno in italiano (es. 'Mar 2023')\n",
    "ingressi_mensili_full_price[\"mese_anno\"] = ingressi_mensili_full_price[\"datetime\"].dt.strftime(\"%b %Y\")\n",
    "# Ordine cronologico corretto\n",
    "ingressi_mensili_full_price[\"mese_anno\"] = pd.Categorical(ingressi_mensili_full_price[\"mese_anno\"], categories=ingressi_mensili_full_price[\"mese_anno\"], ordered=True)\n",
    "#print(ingressi_mensili_full_price)"
   ]
  },
  {
   "cell_type": "code",
   "execution_count": null,
   "id": "b55fbc97",
   "metadata": {},
   "outputs": [],
   "source": [
    "# Raggruppo per anno e somma gli ingressi full_price\n",
    "ingressi_annuali_full_price = df.groupby(pd.Grouper(key=\"datetime\", freq=\"Y\"))[[\"full_price\"]].sum().reset_index()\n",
    "# Creo colonna con anno (es. '2023')\n",
    "ingressi_annuali_full_price[\"anno\"] = ingressi_annuali_full_price[\"datetime\"].dt.strftime(\"%Y\")\n",
    "# Ordine cronologico corretto\n",
    "ingressi_annuali_full_price[\"anno\"] = pd.Categorical(ingressi_annuali_full_price[\"anno\"],categories=ingressi_annuali_full_price[\"anno\"],ordered=True)\n",
    "#print(ingressi_annuali_full_price)"
   ]
  },
  {
   "cell_type": "code",
   "execution_count": null,
   "id": "1f8c2464",
   "metadata": {},
   "outputs": [],
   "source": [
    "# Raggruppo per mese e somma gli ingressi reduced\n",
    "ingressi_mensili_reduced = df.groupby(pd.Grouper(key=\"datetime\", freq=\"ME\"))[[\"reduced\"]].sum().reset_index()\n",
    "# Creo colonna con mese e anno in italiano (es. 'Mar 2023')\n",
    "ingressi_mensili_reduced[\"mese_anno\"] = ingressi_mensili_reduced[\"datetime\"].dt.strftime(\"%b %Y\")\n",
    "# Ordine cronologico corretto\n",
    "ingressi_mensili_reduced[\"mese_anno\"] = pd.Categorical(ingressi_mensili_reduced[\"mese_anno\"], categories=ingressi_mensili_reduced[\"mese_anno\"], ordered=True)\n",
    "#print(ingressi_mensili_reduced)"
   ]
  },
  {
   "cell_type": "code",
   "execution_count": null,
   "id": "f97c6ad3",
   "metadata": {},
   "outputs": [],
   "source": [
    "# Raggruppo per anno e somma gli ingressi reduced\n",
    "ingressi_annuali_reduced = df.groupby(pd.Grouper(key=\"datetime\", freq=\"Y\"))[[\"reduced\"]].sum().reset_index()\n",
    "# Creo colonna con anno (es. '2023')\n",
    "ingressi_annuali_reduced[\"anno\"] = ingressi_annuali_reduced[\"datetime\"].dt.strftime(\"%Y\")\n",
    "# Ordine cronologico corretto\n",
    "ingressi_annuali_reduced[\"anno\"] = pd.Categorical(ingressi_annuali_reduced[\"anno\"],categories=ingressi_annuali_reduced[\"anno\"],ordered=True)\n",
    "#print(ingressi_annuali_reduced)"
   ]
  },
  {
   "cell_type": "code",
   "execution_count": null,
   "id": "ad5a56e7",
   "metadata": {},
   "outputs": [],
   "source": [
    "# Raggruppo per mese e somma gli ingressi free\n",
    "ingressi_mensili_free = df.groupby(pd.Grouper(key=\"datetime\", freq=\"ME\"))[[\"free\"]].sum().reset_index()\n",
    "# Creo colonna con mese e anno in italiano (es. 'Mar 2023')\n",
    "ingressi_mensili_free[\"mese_anno\"] = ingressi_mensili_free[\"datetime\"].dt.strftime(\"%b %Y\")\n",
    "# Ordine cronologico corretto\n",
    "ingressi_mensili_free[\"mese_anno\"] = pd.Categorical(ingressi_mensili_free[\"mese_anno\"], categories=ingressi_mensili_free[\"mese_anno\"], ordered=True)\n",
    "#print(ingressi_mensili_free)"
   ]
  },
  {
   "cell_type": "code",
   "execution_count": null,
   "id": "16e47996",
   "metadata": {},
   "outputs": [],
   "source": [
    "# Raggruppo per anno e somma gli ingressi free\n",
    "ingressi_annuali_free = df.groupby(pd.Grouper(key=\"datetime\", freq=\"Y\"))[[\"free\"]].sum().reset_index()\n",
    "# Creo colonna con anno (es. '2023')\n",
    "ingressi_annuali_free[\"anno\"] = ingressi_annuali_free[\"datetime\"].dt.strftime(\"%Y\")\n",
    "# Ordine cronologico corretto\n",
    "ingressi_annuali_free[\"anno\"] = pd.Categorical(ingressi_annuali_free[\"anno\"],categories=ingressi_annuali_free[\"anno\"],ordered=True)\n",
    "#print(ingressi_annuali_free)"
   ]
  }
 ],
 "metadata": {
  "kernelspec": {
   "display_name": "cinema-env",
   "language": "python",
   "name": "python3"
  },
  "language_info": {
   "codemirror_mode": {
    "name": "ipython",
    "version": 3
   },
   "file_extension": ".py",
   "mimetype": "text/x-python",
   "name": "python",
   "nbconvert_exporter": "python",
   "pygments_lexer": "ipython3",
   "version": "3.10.18"
  }
 },
 "nbformat": 4,
 "nbformat_minor": 5
}
